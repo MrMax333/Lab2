{
 "cells": [
  {
   "cell_type": "markdown",
   "metadata": {},
   "source": [
    "# Correlation Analysis Project Code\n"
   ]
  },
  {
   "cell_type": "code",
   "execution_count": 2,
   "metadata": {
    "scrolled": true
   },
   "outputs": [
    {
     "name": "stdout",
     "output_type": "stream",
     "text": [
      "regday r    = 0.179493063031\n",
      "specneed r  = 0.0931881628459\n",
      "bilingua r  = -0.100864012695\n",
      "occupday r  = -0.418619464134\n",
      "totday r    = 0.108952042221\n",
      "spc r       = nan\n",
      "speced r    = -0.241002372748\n",
      "lnchpct r   = -0.78418370215\n",
      "tchratio r  = -0.258545334661\n",
      "percap r    = 0.623420563566\n",
      "totsc8 r    = nan\n",
      "avgsalary r = nan\n",
      "pctel r     = -0.52797467598\n",
      "Correlation in  Unnamed: 0  is  0.0187515854994\n",
      "Correlation in  regday  is  0.179493063031\n",
      "Correlation in  specneed  is  0.0931881628459\n",
      "Correlation in  bilingua  is  -0.100864012695\n",
      "Correlation in  occupday  is  -0.418619464134\n",
      "Correlation in  totday  is  0.108952042221\n",
      "Correlation in  speced  is  -0.241002372748\n",
      "Correlation in  lnchpct  is  -0.78418370215\n",
      "Correlation in  tchratio  is  -0.258545334661\n",
      "Correlation in  percap  is  0.623420563566\n",
      "Correlation in  pctel  is  -0.52797467598\n",
      "\n",
      "[0.018751585499391845, 0.1794930630310102, 0.093188162845920075, -0.10086401269458166, -0.41861946413446927, 0.10895204222089605, -0.24100237274760256, -0.78418370215015254, -0.25854533466108243, 0.62342056356631836, -0.52797467598002346]\n"
     ]
    },
    {
     "ename": "ValueError",
     "evalue": "could not convert string to float: 'r_vals'",
     "output_type": "error",
     "traceback": [
      "\u001b[1;31m---------------------------------------------------------------------------\u001b[0m",
      "\u001b[1;31mValueError\u001b[0m                                Traceback (most recent call last)",
      "\u001b[1;32m<ipython-input-2-962e67f3d264>\u001b[0m in \u001b[0;36m<module>\u001b[1;34m()\u001b[0m\n\u001b[0;32m     74\u001b[0m \u001b[0mplt\u001b[0m\u001b[1;33m.\u001b[0m\u001b[0mxlabel\u001b[0m\u001b[1;33m(\u001b[0m\u001b[1;34m\"Minute in game\"\u001b[0m\u001b[1;33m)\u001b[0m\u001b[1;33m\u001b[0m\u001b[0m\n\u001b[0;32m     75\u001b[0m \u001b[0mplt\u001b[0m\u001b[1;33m.\u001b[0m\u001b[0mylabel\u001b[0m\u001b[1;33m(\u001b[0m\u001b[1;34m\"R correlation to final minute\"\u001b[0m\u001b[1;33m)\u001b[0m\u001b[1;33m\u001b[0m\u001b[0m\n\u001b[1;32m---> 76\u001b[1;33m \u001b[0mplt\u001b[0m\u001b[1;33m.\u001b[0m\u001b[0mplot\u001b[0m\u001b[1;33m(\u001b[0m\u001b[1;34m'r_vals'\u001b[0m\u001b[1;33m)\u001b[0m\u001b[1;33m\u001b[0m\u001b[0m\n\u001b[0m\u001b[0;32m     77\u001b[0m \u001b[0mplt\u001b[0m\u001b[1;33m.\u001b[0m\u001b[0mshow\u001b[0m\u001b[1;33m(\u001b[0m\u001b[1;33m)\u001b[0m\u001b[1;33m\u001b[0m\u001b[0m\n\u001b[0;32m     78\u001b[0m \u001b[1;33m\u001b[0m\u001b[0m\n",
      "\u001b[1;32mC:\\Users\\maxsk\\OneDrive\\Documents\\Programs\\ANACONDA\\lib\\site-packages\\matplotlib\\pyplot.py\u001b[0m in \u001b[0;36mplot\u001b[1;34m(*args, **kwargs)\u001b[0m\n\u001b[0;32m   3315\u001b[0m                       mplDeprecation)\n\u001b[0;32m   3316\u001b[0m     \u001b[1;32mtry\u001b[0m\u001b[1;33m:\u001b[0m\u001b[1;33m\u001b[0m\u001b[0m\n\u001b[1;32m-> 3317\u001b[1;33m         \u001b[0mret\u001b[0m \u001b[1;33m=\u001b[0m \u001b[0max\u001b[0m\u001b[1;33m.\u001b[0m\u001b[0mplot\u001b[0m\u001b[1;33m(\u001b[0m\u001b[1;33m*\u001b[0m\u001b[0margs\u001b[0m\u001b[1;33m,\u001b[0m \u001b[1;33m**\u001b[0m\u001b[0mkwargs\u001b[0m\u001b[1;33m)\u001b[0m\u001b[1;33m\u001b[0m\u001b[0m\n\u001b[0m\u001b[0;32m   3318\u001b[0m     \u001b[1;32mfinally\u001b[0m\u001b[1;33m:\u001b[0m\u001b[1;33m\u001b[0m\u001b[0m\n\u001b[0;32m   3319\u001b[0m         \u001b[0max\u001b[0m\u001b[1;33m.\u001b[0m\u001b[0m_hold\u001b[0m \u001b[1;33m=\u001b[0m \u001b[0mwashold\u001b[0m\u001b[1;33m\u001b[0m\u001b[0m\n",
      "\u001b[1;32mC:\\Users\\maxsk\\OneDrive\\Documents\\Programs\\ANACONDA\\lib\\site-packages\\matplotlib\\__init__.py\u001b[0m in \u001b[0;36minner\u001b[1;34m(ax, *args, **kwargs)\u001b[0m\n\u001b[0;32m   1895\u001b[0m                     warnings.warn(msg % (label_namer, func.__name__),\n\u001b[0;32m   1896\u001b[0m                                   RuntimeWarning, stacklevel=2)\n\u001b[1;32m-> 1897\u001b[1;33m             \u001b[1;32mreturn\u001b[0m \u001b[0mfunc\u001b[0m\u001b[1;33m(\u001b[0m\u001b[0max\u001b[0m\u001b[1;33m,\u001b[0m \u001b[1;33m*\u001b[0m\u001b[0margs\u001b[0m\u001b[1;33m,\u001b[0m \u001b[1;33m**\u001b[0m\u001b[0mkwargs\u001b[0m\u001b[1;33m)\u001b[0m\u001b[1;33m\u001b[0m\u001b[0m\n\u001b[0m\u001b[0;32m   1898\u001b[0m         \u001b[0mpre_doc\u001b[0m \u001b[1;33m=\u001b[0m \u001b[0minner\u001b[0m\u001b[1;33m.\u001b[0m\u001b[0m__doc__\u001b[0m\u001b[1;33m\u001b[0m\u001b[0m\n\u001b[0;32m   1899\u001b[0m         \u001b[1;32mif\u001b[0m \u001b[0mpre_doc\u001b[0m \u001b[1;32mis\u001b[0m \u001b[1;32mNone\u001b[0m\u001b[1;33m:\u001b[0m\u001b[1;33m\u001b[0m\u001b[0m\n",
      "\u001b[1;32mC:\\Users\\maxsk\\OneDrive\\Documents\\Programs\\ANACONDA\\lib\\site-packages\\matplotlib\\axes\\_axes.py\u001b[0m in \u001b[0;36mplot\u001b[1;34m(self, *args, **kwargs)\u001b[0m\n\u001b[0;32m   1405\u001b[0m \u001b[1;33m\u001b[0m\u001b[0m\n\u001b[0;32m   1406\u001b[0m         \u001b[1;32mfor\u001b[0m \u001b[0mline\u001b[0m \u001b[1;32min\u001b[0m \u001b[0mself\u001b[0m\u001b[1;33m.\u001b[0m\u001b[0m_get_lines\u001b[0m\u001b[1;33m(\u001b[0m\u001b[1;33m*\u001b[0m\u001b[0margs\u001b[0m\u001b[1;33m,\u001b[0m \u001b[1;33m**\u001b[0m\u001b[0mkwargs\u001b[0m\u001b[1;33m)\u001b[0m\u001b[1;33m:\u001b[0m\u001b[1;33m\u001b[0m\u001b[0m\n\u001b[1;32m-> 1407\u001b[1;33m             \u001b[0mself\u001b[0m\u001b[1;33m.\u001b[0m\u001b[0madd_line\u001b[0m\u001b[1;33m(\u001b[0m\u001b[0mline\u001b[0m\u001b[1;33m)\u001b[0m\u001b[1;33m\u001b[0m\u001b[0m\n\u001b[0m\u001b[0;32m   1408\u001b[0m             \u001b[0mlines\u001b[0m\u001b[1;33m.\u001b[0m\u001b[0mappend\u001b[0m\u001b[1;33m(\u001b[0m\u001b[0mline\u001b[0m\u001b[1;33m)\u001b[0m\u001b[1;33m\u001b[0m\u001b[0m\n\u001b[0;32m   1409\u001b[0m \u001b[1;33m\u001b[0m\u001b[0m\n",
      "\u001b[1;32mC:\\Users\\maxsk\\OneDrive\\Documents\\Programs\\ANACONDA\\lib\\site-packages\\matplotlib\\axes\\_base.py\u001b[0m in \u001b[0;36madd_line\u001b[1;34m(self, line)\u001b[0m\n\u001b[0;32m   1791\u001b[0m             \u001b[0mline\u001b[0m\u001b[1;33m.\u001b[0m\u001b[0mset_clip_path\u001b[0m\u001b[1;33m(\u001b[0m\u001b[0mself\u001b[0m\u001b[1;33m.\u001b[0m\u001b[0mpatch\u001b[0m\u001b[1;33m)\u001b[0m\u001b[1;33m\u001b[0m\u001b[0m\n\u001b[0;32m   1792\u001b[0m \u001b[1;33m\u001b[0m\u001b[0m\n\u001b[1;32m-> 1793\u001b[1;33m         \u001b[0mself\u001b[0m\u001b[1;33m.\u001b[0m\u001b[0m_update_line_limits\u001b[0m\u001b[1;33m(\u001b[0m\u001b[0mline\u001b[0m\u001b[1;33m)\u001b[0m\u001b[1;33m\u001b[0m\u001b[0m\n\u001b[0m\u001b[0;32m   1794\u001b[0m         \u001b[1;32mif\u001b[0m \u001b[1;32mnot\u001b[0m \u001b[0mline\u001b[0m\u001b[1;33m.\u001b[0m\u001b[0mget_label\u001b[0m\u001b[1;33m(\u001b[0m\u001b[1;33m)\u001b[0m\u001b[1;33m:\u001b[0m\u001b[1;33m\u001b[0m\u001b[0m\n\u001b[0;32m   1795\u001b[0m             \u001b[0mline\u001b[0m\u001b[1;33m.\u001b[0m\u001b[0mset_label\u001b[0m\u001b[1;33m(\u001b[0m\u001b[1;34m'_line%d'\u001b[0m \u001b[1;33m%\u001b[0m \u001b[0mlen\u001b[0m\u001b[1;33m(\u001b[0m\u001b[0mself\u001b[0m\u001b[1;33m.\u001b[0m\u001b[0mlines\u001b[0m\u001b[1;33m)\u001b[0m\u001b[1;33m)\u001b[0m\u001b[1;33m\u001b[0m\u001b[0m\n",
      "\u001b[1;32mC:\\Users\\maxsk\\OneDrive\\Documents\\Programs\\ANACONDA\\lib\\site-packages\\matplotlib\\axes\\_base.py\u001b[0m in \u001b[0;36m_update_line_limits\u001b[1;34m(self, line)\u001b[0m\n\u001b[0;32m   1813\u001b[0m         \u001b[0mFigures\u001b[0m \u001b[0mout\u001b[0m \u001b[0mthe\u001b[0m \u001b[0mdata\u001b[0m \u001b[0mlimit\u001b[0m \u001b[0mof\u001b[0m \u001b[0mthe\u001b[0m \u001b[0mgiven\u001b[0m \u001b[0mline\u001b[0m\u001b[1;33m,\u001b[0m \u001b[0mupdating\u001b[0m \u001b[0mself\u001b[0m\u001b[1;33m.\u001b[0m\u001b[0mdataLim\u001b[0m\u001b[1;33m.\u001b[0m\u001b[1;33m\u001b[0m\u001b[0m\n\u001b[0;32m   1814\u001b[0m         \"\"\"\n\u001b[1;32m-> 1815\u001b[1;33m         \u001b[0mpath\u001b[0m \u001b[1;33m=\u001b[0m \u001b[0mline\u001b[0m\u001b[1;33m.\u001b[0m\u001b[0mget_path\u001b[0m\u001b[1;33m(\u001b[0m\u001b[1;33m)\u001b[0m\u001b[1;33m\u001b[0m\u001b[0m\n\u001b[0m\u001b[0;32m   1816\u001b[0m         \u001b[1;32mif\u001b[0m \u001b[0mpath\u001b[0m\u001b[1;33m.\u001b[0m\u001b[0mvertices\u001b[0m\u001b[1;33m.\u001b[0m\u001b[0msize\u001b[0m \u001b[1;33m==\u001b[0m \u001b[1;36m0\u001b[0m\u001b[1;33m:\u001b[0m\u001b[1;33m\u001b[0m\u001b[0m\n\u001b[0;32m   1817\u001b[0m             \u001b[1;32mreturn\u001b[0m\u001b[1;33m\u001b[0m\u001b[0m\n",
      "\u001b[1;32mC:\\Users\\maxsk\\OneDrive\\Documents\\Programs\\ANACONDA\\lib\\site-packages\\matplotlib\\lines.py\u001b[0m in \u001b[0;36mget_path\u001b[1;34m(self)\u001b[0m\n\u001b[0;32m    987\u001b[0m         \"\"\"\n\u001b[0;32m    988\u001b[0m         \u001b[1;32mif\u001b[0m \u001b[0mself\u001b[0m\u001b[1;33m.\u001b[0m\u001b[0m_invalidy\u001b[0m \u001b[1;32mor\u001b[0m \u001b[0mself\u001b[0m\u001b[1;33m.\u001b[0m\u001b[0m_invalidx\u001b[0m\u001b[1;33m:\u001b[0m\u001b[1;33m\u001b[0m\u001b[0m\n\u001b[1;32m--> 989\u001b[1;33m             \u001b[0mself\u001b[0m\u001b[1;33m.\u001b[0m\u001b[0mrecache\u001b[0m\u001b[1;33m(\u001b[0m\u001b[1;33m)\u001b[0m\u001b[1;33m\u001b[0m\u001b[0m\n\u001b[0m\u001b[0;32m    990\u001b[0m         \u001b[1;32mreturn\u001b[0m \u001b[0mself\u001b[0m\u001b[1;33m.\u001b[0m\u001b[0m_path\u001b[0m\u001b[1;33m\u001b[0m\u001b[0m\n\u001b[0;32m    991\u001b[0m \u001b[1;33m\u001b[0m\u001b[0m\n",
      "\u001b[1;32mC:\\Users\\maxsk\\OneDrive\\Documents\\Programs\\ANACONDA\\lib\\site-packages\\matplotlib\\lines.py\u001b[0m in \u001b[0;36mrecache\u001b[1;34m(self, always)\u001b[0m\n\u001b[0;32m    683\u001b[0m                 \u001b[0my\u001b[0m \u001b[1;33m=\u001b[0m \u001b[0mma\u001b[0m\u001b[1;33m.\u001b[0m\u001b[0masarray\u001b[0m\u001b[1;33m(\u001b[0m\u001b[0myconv\u001b[0m\u001b[1;33m,\u001b[0m \u001b[0mnp\u001b[0m\u001b[1;33m.\u001b[0m\u001b[0mfloat_\u001b[0m\u001b[1;33m)\u001b[0m\u001b[1;33m.\u001b[0m\u001b[0mfilled\u001b[0m\u001b[1;33m(\u001b[0m\u001b[0mnp\u001b[0m\u001b[1;33m.\u001b[0m\u001b[0mnan\u001b[0m\u001b[1;33m)\u001b[0m\u001b[1;33m\u001b[0m\u001b[0m\n\u001b[0;32m    684\u001b[0m             \u001b[1;32melse\u001b[0m\u001b[1;33m:\u001b[0m\u001b[1;33m\u001b[0m\u001b[0m\n\u001b[1;32m--> 685\u001b[1;33m                 \u001b[0my\u001b[0m \u001b[1;33m=\u001b[0m \u001b[0mnp\u001b[0m\u001b[1;33m.\u001b[0m\u001b[0masarray\u001b[0m\u001b[1;33m(\u001b[0m\u001b[0myconv\u001b[0m\u001b[1;33m,\u001b[0m \u001b[0mnp\u001b[0m\u001b[1;33m.\u001b[0m\u001b[0mfloat_\u001b[0m\u001b[1;33m)\u001b[0m\u001b[1;33m\u001b[0m\u001b[0m\n\u001b[0m\u001b[0;32m    686\u001b[0m             \u001b[0my\u001b[0m \u001b[1;33m=\u001b[0m \u001b[0my\u001b[0m\u001b[1;33m.\u001b[0m\u001b[0mravel\u001b[0m\u001b[1;33m(\u001b[0m\u001b[1;33m)\u001b[0m\u001b[1;33m\u001b[0m\u001b[0m\n\u001b[0;32m    687\u001b[0m         \u001b[1;32melse\u001b[0m\u001b[1;33m:\u001b[0m\u001b[1;33m\u001b[0m\u001b[0m\n",
      "\u001b[1;32mC:\\Users\\maxsk\\OneDrive\\Documents\\Programs\\ANACONDA\\lib\\site-packages\\numpy\\core\\numeric.py\u001b[0m in \u001b[0;36masarray\u001b[1;34m(a, dtype, order)\u001b[0m\n\u001b[0;32m    529\u001b[0m \u001b[1;33m\u001b[0m\u001b[0m\n\u001b[0;32m    530\u001b[0m     \"\"\"\n\u001b[1;32m--> 531\u001b[1;33m     \u001b[1;32mreturn\u001b[0m \u001b[0marray\u001b[0m\u001b[1;33m(\u001b[0m\u001b[0ma\u001b[0m\u001b[1;33m,\u001b[0m \u001b[0mdtype\u001b[0m\u001b[1;33m,\u001b[0m \u001b[0mcopy\u001b[0m\u001b[1;33m=\u001b[0m\u001b[1;32mFalse\u001b[0m\u001b[1;33m,\u001b[0m \u001b[0morder\u001b[0m\u001b[1;33m=\u001b[0m\u001b[0morder\u001b[0m\u001b[1;33m)\u001b[0m\u001b[1;33m\u001b[0m\u001b[0m\n\u001b[0m\u001b[0;32m    532\u001b[0m \u001b[1;33m\u001b[0m\u001b[0m\n\u001b[0;32m    533\u001b[0m \u001b[1;33m\u001b[0m\u001b[0m\n",
      "\u001b[1;31mValueError\u001b[0m: could not convert string to float: 'r_vals'"
     ]
    }
   ],
   "source": [
    "import csv\n",
    "import math\n",
    "import statistics as stats\n",
    "import numpy as np\n",
    "import pandas as pd\n",
    "import matplotlib.pyplot as plt\n",
    "\n",
    "\n",
    "mcas = pd.read_csv('MCAS.csv') #read in file to dataframe\n",
    "\n",
    "mcas[:3]\n",
    "\n",
    "\n",
    "\n",
    "#Data Processing - Clean up and split the data into two lists, east and east\n",
    "#This allows for further statistical analysis on cleaned up lists\n",
    "#this is traceys code\n",
    "\n",
    "#remove the first element (column header)\n",
    "#del MCAS[0];\n",
    "\n",
    "#print(MCAS)\n",
    "\n",
    "print(\"regday r    =\", np.corrcoef(mcas['totsc4'], mcas['regday'])[0, 1])\n",
    "print(\"specneed r  =\", np.corrcoef(mcas['totsc4'], mcas['specneed'])[0, 1])\n",
    "print(\"bilingua r  =\", np.corrcoef(mcas['totsc4'], mcas['bilingua'])[0, 1])\n",
    "print(\"occupday r  =\", np.corrcoef(mcas['totsc4'], mcas['occupday'])[0, 1])\n",
    "print(\"totday r    =\", np.corrcoef(mcas['totsc4'], mcas['totday'])[0, 1])\n",
    "print(\"spc r       =\", np.corrcoef(mcas['totsc4'], mcas['spc'])[0, 1])\n",
    "print(\"speced r    =\", np.corrcoef(mcas['totsc4'], mcas['speced'])[0, 1])\n",
    "print(\"lnchpct r   =\", np.corrcoef(mcas['totsc4'], mcas['lnchpct'])[0, 1])\n",
    "print(\"tchratio r  =\", np.corrcoef(mcas['totsc4'], mcas['tchratio'])[0, 1])\n",
    "print(\"percap r    =\", np.corrcoef(mcas['totsc4'], mcas['percap'])[0, 1])\n",
    "print(\"totsc8 r    =\", np.corrcoef(mcas['totsc4'], mcas['totsc8'])[0, 1])\n",
    "print(\"avgsalary r =\", np.corrcoef(mcas['totsc4'], mcas['avgsalary'])[0, 1])\n",
    "print(\"pctel r     =\", np.corrcoef(mcas['totsc4'], mcas['pctel'])[0, 1])\n",
    "\n",
    "regdayR    = np.corrcoef(mcas['totsc4'], mcas['regday'])[0, 1]\n",
    "specneedR  = np.corrcoef(mcas['totsc4'], mcas['specneed'])[0, 1]\n",
    "bilinguaR  = np.corrcoef(mcas['totsc4'], mcas['bilingua'])[0, 1]\n",
    "occupdayR  = np.corrcoef(mcas['totsc4'], mcas['occupday'])[0, 1]\n",
    "totdayR    = np.corrcoef(mcas['totsc4'], mcas['totday'])[0, 1]\n",
    "spcR       = np.corrcoef(mcas['totsc4'], mcas['spc'])[0, 1]\n",
    "specedR    = np.corrcoef(mcas['totsc4'], mcas['speced'])[0, 1]\n",
    "lnchpctR   = np.corrcoef(mcas['totsc4'], mcas['lnchpct'])[0, 1]\n",
    "tchratioR  = np.corrcoef(mcas['totsc4'], mcas['tchratio'])[0, 1]\n",
    "percapR    = np.corrcoef(mcas['totsc4'], mcas['percap'])[0, 1]\n",
    "totsc8R    = np.corrcoef(mcas['totsc4'], mcas['totsc8'])[0, 1]\n",
    "avgsalaryR = np.corrcoef(mcas['totsc4'], mcas['avgsalary'])[0, 1]\n",
    "pctelR     = np.corrcoef(mcas['totsc4'], mcas['pctel'])[0, 1]\n",
    "\n",
    "#create a list of correlation coeffcients for minutes 0 - 47\n",
    "r_vals = [] \n",
    "\n",
    "#loop through columns and compute Pearson correlation coefficient\n",
    "for c in mcas.columns:\n",
    "    #skip the team name column and the minute 48 column (its our anchor variable)\n",
    "    if c != 'Column1' and c != 'code' and c != 'municipa' and c != 'district' and c != 'totsc4' and c != 'spc' and c != 'totsc8' and c != 'avgsalary':\n",
    "        #calculate the coefficient and append it to our list\n",
    "        r = np.corrcoef(mcas[c], mcas['totsc4'])[0, 1]\n",
    "        r_vals.append(r) \n",
    "        print(\"Correlation in \", c, \" is \", r)\n",
    "        \n",
    "        \n",
    "\n",
    "# make sure figures appear inline in Ipython Notebook\n",
    "#%matplotlib inline\n",
    "# create a quick bar chart\n",
    "#mcas['totsc4'].plot(kind='bar');\n",
    "#plt.plot(kind='bar');\n",
    "print()\n",
    "print(r_vals)\n",
    "\n",
    "plt.xlabel(\"Minute in game\")\n",
    "plt.ylabel(\"R correlation to final minute\")\n",
    "plt.plot('r_vals')\n",
    "plt.show()\n",
    "\n",
    "\n"
   ]
  },
  {
   "attachments": {},
   "cell_type": "markdown",
   "metadata": {
    "collapsed": true
   },
   "source": [
    "# Comentary \n",
    "Three most corelated to totsc4 are \n",
    "lnchpct r   = -0.78418370215\n",
    "percap r    = 0.623420563566\n",
    "pctel r     = -0.52797467598\n",
    "\n",
    "The three most corelated data sets to 4th grade score, (not including the sets that weren't complete) where negatively \"% Eligible for free/reduced price lunch\", positively \"Per Capita Income\", and negatively \"Percent English Learners\". Lower income often results in higher more free/reduced lunch, because its set up, and then the possible causation could be that people who are less wealthy don’t have the means to as good of an education. "
   ]
  },
  {
   "cell_type": "markdown",
   "metadata": {
    "collapsed": true
   },
   "source": []
  },
  {
   "cell_type": "code",
   "execution_count": null,
   "metadata": {
    "collapsed": true
   },
   "outputs": [],
   "source": []
  }
 ],
 "metadata": {
  "kernelspec": {
   "display_name": "Python 3",
   "language": "python",
   "name": "python3"
  },
  "language_info": {
   "codemirror_mode": {
    "name": "ipython",
    "version": 3
   },
   "file_extension": ".py",
   "mimetype": "text/x-python",
   "name": "python",
   "nbconvert_exporter": "python",
   "pygments_lexer": "ipython3",
   "version": "3.6.1"
  }
 },
 "nbformat": 4,
 "nbformat_minor": 2
}
