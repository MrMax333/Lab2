{
 "cells": [
  {
   "cell_type": "markdown",
   "metadata": {},
   "source": [
    "# Correlation Analysis Project MCAS\n"
   ]
  },
  {
   "cell_type": "markdown",
   "metadata": {},
   "source": [
    "# Introduction\n",
    "We are looking at data from Massachuchets public high schools from 1998.\n",
    "We would like to know what are the 3 things that correlate highest with 4th grade test scores. We found that the three top corelating where % Eligible for free/reduced price lunch, Per Capita Income, and Percent English Learners. Some with low correlations that where noteworthy was the data on spending per student. \n",
    "\n"
   ]
  },
  {
   "cell_type": "markdown",
   "metadata": {},
   "source": [
    "# Dataset Preparation \n",
    "The dataset has alot of data on Massachuchets public high schools from 1998. It was given to us from Tracey but the data was origanally taken from the Massachusetts Comprehensive Assessment System (MCAS) test. Below is the code used to prepare the data analysis. It imports the needed python packages and puts the data from the csv file into a dataframe.\n"
   ]
  },
  {
   "cell_type": "code",
   "execution_count": 6,
   "metadata": {},
   "outputs": [
    {
     "data": {
      "text/html": [
       "<div>\n",
       "<style>\n",
       "    .dataframe thead tr:only-child th {\n",
       "        text-align: right;\n",
       "    }\n",
       "\n",
       "    .dataframe thead th {\n",
       "        text-align: left;\n",
       "    }\n",
       "\n",
       "    .dataframe tbody tr th {\n",
       "        vertical-align: top;\n",
       "    }\n",
       "</style>\n",
       "<table border=\"1\" class=\"dataframe\">\n",
       "  <thead>\n",
       "    <tr style=\"text-align: right;\">\n",
       "      <th></th>\n",
       "      <th>Unnamed: 0</th>\n",
       "      <th>code</th>\n",
       "      <th>municipa</th>\n",
       "      <th>district</th>\n",
       "      <th>regday</th>\n",
       "      <th>specneed</th>\n",
       "      <th>bilingua</th>\n",
       "      <th>occupday</th>\n",
       "      <th>totday</th>\n",
       "      <th>spc</th>\n",
       "      <th>speced</th>\n",
       "      <th>lnchpct</th>\n",
       "      <th>tchratio</th>\n",
       "      <th>percap</th>\n",
       "      <th>totsc4</th>\n",
       "      <th>totsc8</th>\n",
       "      <th>avgsalary</th>\n",
       "      <th>pctel</th>\n",
       "    </tr>\n",
       "  </thead>\n",
       "  <tbody>\n",
       "    <tr>\n",
       "      <th>0</th>\n",
       "      <td>1</td>\n",
       "      <td>1</td>\n",
       "      <td>ABINGTON</td>\n",
       "      <td>Abington</td>\n",
       "      <td>4201</td>\n",
       "      <td>7375.689941</td>\n",
       "      <td>0</td>\n",
       "      <td>0</td>\n",
       "      <td>4646</td>\n",
       "      <td>16.6</td>\n",
       "      <td>14.6</td>\n",
       "      <td>11.8</td>\n",
       "      <td>19.000000</td>\n",
       "      <td>16.379</td>\n",
       "      <td>714</td>\n",
       "      <td>691.0</td>\n",
       "      <td>34.360001</td>\n",
       "      <td>0.000000</td>\n",
       "    </tr>\n",
       "    <tr>\n",
       "      <th>1</th>\n",
       "      <td>2</td>\n",
       "      <td>2</td>\n",
       "      <td>ACTON</td>\n",
       "      <td>Acton</td>\n",
       "      <td>4129</td>\n",
       "      <td>8573.990234</td>\n",
       "      <td>0</td>\n",
       "      <td>0</td>\n",
       "      <td>4930</td>\n",
       "      <td>5.7</td>\n",
       "      <td>17.4</td>\n",
       "      <td>2.5</td>\n",
       "      <td>22.600000</td>\n",
       "      <td>25.792</td>\n",
       "      <td>731</td>\n",
       "      <td>NaN</td>\n",
       "      <td>38.063000</td>\n",
       "      <td>1.246106</td>\n",
       "    </tr>\n",
       "    <tr>\n",
       "      <th>2</th>\n",
       "      <td>3</td>\n",
       "      <td>3</td>\n",
       "      <td>ACUSHNET</td>\n",
       "      <td>Acushnet</td>\n",
       "      <td>3627</td>\n",
       "      <td>8081.720215</td>\n",
       "      <td>0</td>\n",
       "      <td>0</td>\n",
       "      <td>4281</td>\n",
       "      <td>7.5</td>\n",
       "      <td>12.1</td>\n",
       "      <td>14.1</td>\n",
       "      <td>19.299999</td>\n",
       "      <td>14.040</td>\n",
       "      <td>704</td>\n",
       "      <td>693.0</td>\n",
       "      <td>32.491001</td>\n",
       "      <td>0.000000</td>\n",
       "    </tr>\n",
       "  </tbody>\n",
       "</table>\n",
       "</div>"
      ],
      "text/plain": [
       "   Unnamed: 0  code  municipa  district  regday     specneed  bilingua  \\\n",
       "0           1     1  ABINGTON  Abington    4201  7375.689941         0   \n",
       "1           2     2     ACTON     Acton    4129  8573.990234         0   \n",
       "2           3     3  ACUSHNET  Acushnet    3627  8081.720215         0   \n",
       "\n",
       "   occupday  totday   spc  speced  lnchpct   tchratio  percap  totsc4  totsc8  \\\n",
       "0         0    4646  16.6    14.6     11.8  19.000000  16.379     714   691.0   \n",
       "1         0    4930   5.7    17.4      2.5  22.600000  25.792     731     NaN   \n",
       "2         0    4281   7.5    12.1     14.1  19.299999  14.040     704   693.0   \n",
       "\n",
       "   avgsalary     pctel  \n",
       "0  34.360001  0.000000  \n",
       "1  38.063000  1.246106  \n",
       "2  32.491001  0.000000  "
      ]
     },
     "execution_count": 6,
     "metadata": {},
     "output_type": "execute_result"
    }
   ],
   "source": [
    "import csv\n",
    "import math\n",
    "import statistics as stats\n",
    "import numpy as np\n",
    "import pandas as pd\n",
    "import matplotlib.pyplot as plt\n",
    "\n",
    "\n",
    "mcas = pd.read_csv('MCAS.csv') #read in file to dataframe\n",
    "\n",
    "mcas[:3]"
   ]
  },
  {
   "cell_type": "markdown",
   "metadata": {},
   "source": [
    "# Data Modeling\n",
    "- We wanted to compare every quantitative variable to 4th grade test scores in order extrapalate early test scores \n",
    "- I used pearson coefficiants from the numpy packages in python to calculate how corelated each section was with 4th grade test score\n"
   ]
  },
  {
   "cell_type": "code",
   "execution_count": 7,
   "metadata": {},
   "outputs": [
    {
     "name": "stdout",
     "output_type": "stream",
     "text": [
      "Correlation in  Unnamed: 0  is  0.0187515854994\n",
      "Correlation in  regday  is  0.179493063031\n",
      "Correlation in  specneed  is  0.0931881628459\n",
      "Correlation in  bilingua  is  -0.100864012695\n",
      "Correlation in  occupday  is  -0.418619464134\n",
      "Correlation in  totday  is  0.108952042221\n",
      "Correlation in  speced  is  -0.241002372748\n",
      "Correlation in  lnchpct  is  -0.78418370215\n",
      "Correlation in  tchratio  is  -0.258545334661\n",
      "Correlation in  percap  is  0.623420563566\n",
      "Correlation in  pctel  is  -0.52797467598\n"
     ]
    }
   ],
   "source": [
    "#create a list of correlation coeffcients for minutes 0 - 47\n",
    "r_vals = [] \n",
    "\n",
    "#loop through columns and compute Pearson correlation coefficient\n",
    "for c in mcas.columns:\n",
    "    #skip the team name column and the minute 48 column (its our anchor variable)\n",
    "    if c != 'Column1' and c != 'code' and c != 'municipa' and c != 'district' and c != 'totsc4' and c != 'spc' and c != 'totsc8' and c != 'avgsalary':\n",
    "        #calculate the coefficient and append it to our list\n",
    "        r = np.corrcoef(mcas[c], mcas['totsc4'])[0, 1]\n",
    "        r_vals.append(r) \n",
    "        print(\"Correlation in \", c, \" is \", r)\n",
    "        \n",
    "        \n"
   ]
  },
  {
   "cell_type": "markdown",
   "metadata": {},
   "source": [
    "# Data Analysis\n",
    "- After looking at all the r values from the data sets, I've found that the three most corelated to totsc4 are lnchpct r = -0.78418370215 percap r = 0.623420563566 pctel r = -0.52797467598\n",
    "    - The three highest corelating, in order where\n",
    "        - % Eligible for free/reduced price lunch\n",
    "        - Per Capita Income\n",
    "        - Percent English Learners\n",
    "    - Note they had a negative relation other than the per capita income\n",
    "\n",
    "\n",
    "- Some of the lowest corelating factors with 4th grade test scores are spending per pupil, specifically for regular, special needs, bilingual, and total\n",
    "    - Note that we dont know how these tests where administered so it is possible that the data especially for special needs and bilingial students is skewed\n",
    "    - If we where to ignore possible failures in the data gathering we could say that we could reduce spending in schools and achieive the same test scores for our students, but it is important to note that test scores may not be the perfect way to messure the value of someones education\n",
    "        - If we did more analysis this would be a topic to dive deeper into \n",
    "\n",
    "\n"
   ]
  },
  {
   "cell_type": "markdown",
   "metadata": {},
   "source": [
    "# Acknowledgements\n",
    "Used alot of Traceys code"
   ]
  }
 ],
 "metadata": {
  "kernelspec": {
   "display_name": "Python 3",
   "language": "python",
   "name": "python3"
  },
  "language_info": {
   "codemirror_mode": {
    "name": "ipython",
    "version": 3
   },
   "file_extension": ".py",
   "mimetype": "text/x-python",
   "name": "python",
   "nbconvert_exporter": "python",
   "pygments_lexer": "ipython3",
   "version": "3.6.1"
  }
 },
 "nbformat": 4,
 "nbformat_minor": 2
}
